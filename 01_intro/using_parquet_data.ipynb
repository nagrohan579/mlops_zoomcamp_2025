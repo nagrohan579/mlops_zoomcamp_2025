{
 "cells": [
  {
   "cell_type": "code",
   "execution_count": null,
   "id": "d18f2d4d",
   "metadata": {},
   "outputs": [],
   "source": [
    "print(\"Good\")"
   ]
  }
 ],
 "metadata": {
  "language_info": {
   "name": "python"
  }
 },
 "nbformat": 4,
 "nbformat_minor": 5
}
